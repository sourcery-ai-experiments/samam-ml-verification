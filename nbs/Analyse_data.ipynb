{
 "cells": [
  {
   "cell_type": "markdown",
   "id": "3d911b6b-405b-475a-a25b-8163996dd640",
   "metadata": {},
   "source": [
    "## Take a look at data"
   ]
  },
  {
   "cell_type": "code",
   "execution_count": 1,
   "id": "85d69375-6599-47ba-934e-1b1d46b9008b",
   "metadata": {},
   "outputs": [],
   "source": [
    "import pandas as pd"
   ]
  },
  {
   "cell_type": "markdown",
   "id": "00c02f3f-a4da-4ebb-b060-9c9e44260c38",
   "metadata": {},
   "source": [
    "## No issue words\n",
    "\n",
    "## Problem words\n",
    "\n",
    "https://samam.net/dictionary/malayalam/*/%E0%B4%85%E0%B4%95%E0%B4%82\n",
    "\n",
    "https://samam.net/dictionary/malayalam/*/%E0%B4%85%E0%B4%97%E0%B5%8D%E0%B4%B0%E0%B4%B9%E0%B4%BE%E0%B4%B0%E0%B4%82"
   ]
  },
  {
   "cell_type": "code",
   "execution_count": 2,
   "id": "1f498394-cbf3-44f2-a07b-f4695546134e",
   "metadata": {},
   "outputs": [],
   "source": [
    "df = pd.read_csv(\"../data/unicode_clean.csv\", header=None, names=[\"Malayalam\", \"Kannada\", \"Tamil\", \"Telugu\"], delim_whitespace=True)"
   ]
  },
  {
   "cell_type": "code",
   "execution_count": 3,
   "id": "674607bb-7e8b-450f-bd80-7b190003c50b",
   "metadata": {},
   "outputs": [
    {
     "data": {
      "text/html": [
       "<div>\n",
       "<style scoped>\n",
       "    .dataframe tbody tr th:only-of-type {\n",
       "        vertical-align: middle;\n",
       "    }\n",
       "\n",
       "    .dataframe tbody tr th {\n",
       "        vertical-align: top;\n",
       "    }\n",
       "\n",
       "    .dataframe thead th {\n",
       "        text-align: right;\n",
       "    }\n",
       "</style>\n",
       "<table border=\"1\" class=\"dataframe\">\n",
       "  <thead>\n",
       "    <tr style=\"text-align: right;\">\n",
       "      <th></th>\n",
       "      <th>Malayalam</th>\n",
       "      <th>Kannada</th>\n",
       "      <th>Tamil</th>\n",
       "      <th>Telugu</th>\n",
       "    </tr>\n",
       "  </thead>\n",
       "  <tbody>\n",
       "    <tr>\n",
       "      <th>0</th>\n",
       "      <td>അകം(1) അന്തരംഗം, മനസ്സ്‌</td>\n",
       "      <td>അഗ - ഒളഗഡെ, അംതരംഗ, മനസ്സ്‌</td>\n",
       "      <td>അകം - ഉള്ളം മനം, മനസു</td>\n",
       "      <td>ലോനു - ലോപലിഭാഗം, മനസ്സു</td>\n",
       "    </tr>\n",
       "    <tr>\n",
       "      <th>1</th>\n",
       "      <td>അകം(2) ഉള്‍ഭാഗം</td>\n",
       "      <td>അഗ - ഒളഗു, ഒളഗഡെ, ഒളഭാഗ</td>\n",
       "      <td>അകം- ഉള്ളിടം</td>\n",
       "      <td>ലോപല - അംതര്‍ഭാഗം</td>\n",
       "    </tr>\n",
       "    <tr>\n",
       "      <th>2</th>\n",
       "      <td>അകം (3) മുറി, അറ (തെക്കെയകം, വടക്കെയകം</td>\n",
       "      <td>കോണെ - കൊട്ടഡി, കൊഠഡി</td>\n",
       "      <td>അറൈ- വീട്ടിന്‍ ഉള്ളിടം</td>\n",
       "      <td>ഗദി - ഇംടിലോപലിഅര, ഇംടിലോഒകഭാഗം</td>\n",
       "    </tr>\n",
       "    <tr>\n",
       "      <th>3</th>\n",
       "      <td>അകങ്കാല്‍ - ഉള്ളങ്കാല്‍</td>\n",
       "      <td>അംഗാലു -ഹെജെജയകെളഭാഗ</td>\n",
       "      <td>ഉള്ളങ്കാല്‍ - കാലിന്‍ അടിപ്പകുതി</td>\n",
       "      <td>അരകാലു - അരികാലു, പാദം അഡുഗുഭാഗം</td>\n",
       "    </tr>\n",
       "    <tr>\n",
       "      <th>4</th>\n",
       "      <td>അകങ്കൈ - ഉള്ളങ്കൈ</td>\n",
       "      <td>അംഗൈ - കരതള, കൈയഒളഭാഗ</td>\n",
       "      <td>ഉള്ളങ്കൈ - രേകൈകള്‍ കാണപ്പടും കൈപ്പകുതി</td>\n",
       "      <td>അരചേയി - കരതലു, ചേതിലോപലിഭാഗം</td>\n",
       "    </tr>\n",
       "  </tbody>\n",
       "</table>\n",
       "</div>"
      ],
      "text/plain": [
       "                                Malayalam                      Kannada  \\\n",
       "0                അകം(1) അന്തരംഗം, മനസ്സ്‌  അഗ - ഒളഗഡെ, അംതരംഗ, മനസ്സ്‌   \n",
       "1                         അകം(2) ഉള്‍ഭാഗം      അഗ - ഒളഗു, ഒളഗഡെ, ഒളഭാഗ   \n",
       "2  അകം (3) മുറി, അറ (തെക്കെയകം, വടക്കെയകം     കോണെ - കൊട്ടഡി, കൊഠഡി   \n",
       "3                 അകങ്കാല്‍ - ഉള്ളങ്കാല്‍         അംഗാലു -ഹെജെജയകെളഭാഗ   \n",
       "4                       അകങ്കൈ - ഉള്ളങ്കൈ        അംഗൈ - കരതള, കൈയഒളഭാഗ   \n",
       "\n",
       "                                     Tamil                             Telugu  \n",
       "0                    അകം - ഉള്ളം മനം, മനസു         ലോനു - ലോപലിഭാഗം, മനസ്സു  \n",
       "1                             അകം- ഉള്ളിടം                 ലോപല - അംതര്‍ഭാഗം  \n",
       "2                   അറൈ- വീട്ടിന്‍ ഉള്ളിടം  ഗദി - ഇംടിലോപലിഅര, ഇംടിലോഒകഭാഗം  \n",
       "3         ഉള്ളങ്കാല്‍ - കാലിന്‍ അടിപ്പകുതി   അരകാലു - അരികാലു, പാദം അഡുഗുഭാഗം  \n",
       "4  ഉള്ളങ്കൈ - രേകൈകള്‍ കാണപ്പടും കൈപ്പകുതി     അരചേയി - കരതലു, ചേതിലോപലിഭാഗം  "
      ]
     },
     "execution_count": 3,
     "metadata": {},
     "output_type": "execute_result"
    }
   ],
   "source": [
    "df.head()"
   ]
  },
  {
   "cell_type": "code",
   "execution_count": 5,
   "id": "8dd1c49d-65fe-4321-9b6c-1304602c0a03",
   "metadata": {},
   "outputs": [
    {
     "name": "stderr",
     "output_type": "stream",
     "text": [
      "Skipping line 2403: expected 4 fields, saw 5\n",
      "Skipping line 2775: expected 4 fields, saw 11\n",
      "\n"
     ]
    }
   ],
   "source": [
    "df1 = pd.read_csv(\"../data/unicode.csv\", header=None, names=[\"Malayalam\", \"Kannada\", \"Tamil\", \"Telugu\"], delim_whitespace=True, on_bad_lines='warn')"
   ]
  },
  {
   "cell_type": "code",
   "execution_count": 6,
   "id": "1fd7645a-ae8f-4409-84f0-3ffa3cecfe9e",
   "metadata": {},
   "outputs": [
    {
     "data": {
      "text/html": [
       "<div>\n",
       "<style scoped>\n",
       "    .dataframe tbody tr th:only-of-type {\n",
       "        vertical-align: middle;\n",
       "    }\n",
       "\n",
       "    .dataframe tbody tr th {\n",
       "        vertical-align: top;\n",
       "    }\n",
       "\n",
       "    .dataframe thead th {\n",
       "        text-align: right;\n",
       "    }\n",
       "</style>\n",
       "<table border=\"1\" class=\"dataframe\">\n",
       "  <thead>\n",
       "    <tr style=\"text-align: right;\">\n",
       "      <th></th>\n",
       "      <th>Malayalam</th>\n",
       "      <th>Kannada</th>\n",
       "      <th>Tamil</th>\n",
       "      <th>Telugu</th>\n",
       "    </tr>\n",
       "  </thead>\n",
       "  <tbody>\n",
       "    <tr>\n",
       "      <th>0</th>\n",
       "      <td>അകം(1) അന്തരംഗം, മനസ്സ്‌</td>\n",
       "      <td>അഗ - ഒളഗഡെ, അംതരംഗ, മനസ്സ്‌</td>\n",
       "      <td>അകം - ഉള്ളം മനം, മനസു</td>\n",
       "      <td>ലോനു - ലോപലിഭാഗം, മനസ്സു</td>\n",
       "    </tr>\n",
       "    <tr>\n",
       "      <th>1</th>\n",
       "      <td>അകം(2) ഉള്‍ഭാഗം</td>\n",
       "      <td>അഗ - ഒളഗു, ഒളഗഡെ, ഒളഭാഗ</td>\n",
       "      <td>അകം- ഉള്ളിടം</td>\n",
       "      <td>ലോപല - അംതര്‍ഭാഗം</td>\n",
       "    </tr>\n",
       "    <tr>\n",
       "      <th>2</th>\n",
       "      <td>അകം (3) മുറി, അറ (തെക്കെയകം, വടക്കെയകം</td>\n",
       "      <td>കോണെ - കൊട്ടഡി, കൊഠഡി</td>\n",
       "      <td>അറൈ- വീട്ടിന്‍ ഉള്ളിടം</td>\n",
       "      <td>ഗദി - ഇംടിലോപലിഅര, ഇംടിലോഒകഭാഗം</td>\n",
       "    </tr>\n",
       "    <tr>\n",
       "      <th>3</th>\n",
       "      <td>അകങ്കാല്‍ - ഉള്ളങ്കാല്‍</td>\n",
       "      <td>അംഗാലു -ഹെജെജയകെളഭാഗ</td>\n",
       "      <td>ഉള്ളങ്കാല്‍ - കാലിന്‍ അടിപ്പകുതി</td>\n",
       "      <td>അരകാലു - അരികാലു, പാദം അഡുഗുഭാഗം</td>\n",
       "    </tr>\n",
       "    <tr>\n",
       "      <th>4</th>\n",
       "      <td>അകങ്കൈ - ഉള്ളങ്കൈ</td>\n",
       "      <td>അംഗൈ - കരതള, കൈയഒളഭാഗ</td>\n",
       "      <td>ഉള്ളങ്കൈ - രേകൈകള്‍ കാണപ്പടും കൈപ്പകുതി</td>\n",
       "      <td>അരചേയി - കരതലു, ചേതിലോപലിഭാഗം</td>\n",
       "    </tr>\n",
       "  </tbody>\n",
       "</table>\n",
       "</div>"
      ],
      "text/plain": [
       "                                Malayalam                      Kannada  \\\n",
       "0                അകം(1) അന്തരംഗം, മനസ്സ്‌  അഗ - ഒളഗഡെ, അംതരംഗ, മനസ്സ്‌   \n",
       "1                         അകം(2) ഉള്‍ഭാഗം      അഗ - ഒളഗു, ഒളഗഡെ, ഒളഭാഗ   \n",
       "2  അകം (3) മുറി, അറ (തെക്കെയകം, വടക്കെയകം     കോണെ - കൊട്ടഡി, കൊഠഡി   \n",
       "3                 അകങ്കാല്‍ - ഉള്ളങ്കാല്‍         അംഗാലു -ഹെജെജയകെളഭാഗ   \n",
       "4                       അകങ്കൈ - ഉള്ളങ്കൈ        അംഗൈ - കരതള, കൈയഒളഭാഗ   \n",
       "\n",
       "                                     Tamil                             Telugu  \n",
       "0                    അകം - ഉള്ളം മനം, മനസു         ലോനു - ലോപലിഭാഗം, മനസ്സു  \n",
       "1                             അകം- ഉള്ളിടം                 ലോപല - അംതര്‍ഭാഗം  \n",
       "2                   അറൈ- വീട്ടിന്‍ ഉള്ളിടം  ഗദി - ഇംടിലോപലിഅര, ഇംടിലോഒകഭാഗം  \n",
       "3         ഉള്ളങ്കാല്‍ - കാലിന്‍ അടിപ്പകുതി   അരകാലു - അരികാലു, പാദം അഡുഗുഭാഗം  \n",
       "4  ഉള്ളങ്കൈ - രേകൈകള്‍ കാണപ്പടും കൈപ്പകുതി     അരചേയി - കരതലു, ചേതിലോപലിഭാഗം  "
      ]
     },
     "execution_count": 6,
     "metadata": {},
     "output_type": "execute_result"
    }
   ],
   "source": [
    "df1.head()"
   ]
  },
  {
   "cell_type": "code",
   "execution_count": null,
   "id": "95a1359f-bd9b-43fb-8c57-17292c35c218",
   "metadata": {},
   "outputs": [],
   "source": []
  }
 ],
 "metadata": {
  "kernelspec": {
   "display_name": "Python 3 (ipykernel)",
   "language": "python",
   "name": "python3"
  },
  "language_info": {
   "codemirror_mode": {
    "name": "ipython",
    "version": 3
   },
   "file_extension": ".py",
   "mimetype": "text/x-python",
   "name": "python",
   "nbconvert_exporter": "python",
   "pygments_lexer": "ipython3",
   "version": "3.11.5"
  }
 },
 "nbformat": 4,
 "nbformat_minor": 5
}
